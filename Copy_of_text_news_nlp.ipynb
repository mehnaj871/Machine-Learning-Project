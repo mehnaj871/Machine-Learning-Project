{
  "nbformat": 4,
  "nbformat_minor": 0,
  "metadata": {
    "colab": {
      "name": "Copy of text_news_nlp.ipynb",
      "provenance": [],
      "collapsed_sections": [],
      "include_colab_link": true
    },
    "kernelspec": {
      "name": "python3",
      "display_name": "Python 3"
    },
    "language_info": {
      "name": "python"
    },
    "accelerator": "GPU"
  },
  "cells": [
    {
      "cell_type": "markdown",
      "metadata": {
        "id": "view-in-github",
        "colab_type": "text"
      },
      "source": [
        "<a href=\"https://colab.research.google.com/github/mehnaj871/Machine-Learning-Project/blob/hello-world/Copy_of_text_news_nlp.ipynb\" target=\"_parent\"><img src=\"https://colab.research.google.com/assets/colab-badge.svg\" alt=\"Open In Colab\"/></a>"
      ]
    },
    {
      "cell_type": "code",
      "metadata": {
        "colab": {
          "base_uri": "https://localhost:8080/"
        },
        "id": "F3Jf0VBfQtdZ",
        "outputId": "9738233c-58ad-4831-8992-3b08a6fc289e"
      },
      "source": [
        "!pip install -Uqq fastbook"
      ],
      "execution_count": 1,
      "outputs": [
        {
          "output_type": "stream",
          "name": "stdout",
          "text": [
            "\u001b[K     |████████████████████████████████| 720 kB 5.5 MB/s \n",
            "\u001b[K     |████████████████████████████████| 189 kB 45.8 MB/s \n",
            "\u001b[K     |████████████████████████████████| 46 kB 2.4 MB/s \n",
            "\u001b[K     |████████████████████████████████| 1.2 MB 29.9 MB/s \n",
            "\u001b[K     |████████████████████████████████| 56 kB 3.0 MB/s \n",
            "\u001b[K     |████████████████████████████████| 51 kB 229 kB/s \n",
            "\u001b[?25h"
          ]
        }
      ]
    },
    {
      "cell_type": "markdown",
      "metadata": {
        "id": "W1HIehiIIKfl"
      },
      "source": [
        "## Mounting Google drive "
      ]
    },
    {
      "cell_type": "code",
      "metadata": {
        "colab": {
          "base_uri": "https://localhost:8080/"
        },
        "id": "OiPIZRjrhk_-",
        "outputId": "beb9cabc-d0df-40de-b3b1-36d13ae3fb78"
      },
      "source": [
        "from google.colab import drive\n",
        "drive.mount('/content/drive')"
      ],
      "execution_count": 2,
      "outputs": [
        {
          "output_type": "stream",
          "name": "stdout",
          "text": [
            "Mounted at /content/drive\n"
          ]
        }
      ]
    },
    {
      "cell_type": "markdown",
      "metadata": {
        "id": "dyp9EvGhINoE"
      },
      "source": [
        "## Importing Libraries"
      ]
    },
    {
      "cell_type": "code",
      "metadata": {
        "id": "FS2jk8dEJeuU"
      },
      "source": [
        "from fastai.text.all import *\n",
        "import matplotlib.image as immg\n",
        "from PIL import Image\n",
        "from fastai.vision.widgets import *"
      ],
      "execution_count": 3,
      "outputs": []
    },
    {
      "cell_type": "code",
      "metadata": {
        "id": "PmcrVad0M-OQ"
      },
      "source": [
        "import warnings\n",
        "warnings.filterwarnings(\"ignore\")"
      ],
      "execution_count": 5,
      "outputs": []
    },
    {
      "cell_type": "markdown",
      "metadata": {
        "id": "OzKL9evrIQif"
      },
      "source": [
        "### Downloading Data"
      ]
    },
    {
      "cell_type": "code",
      "metadata": {
        "id": "zzXC_t4BJfKy",
        "colab": {
          "base_uri": "https://localhost:8080/",
          "height": 37
        },
        "outputId": "ac0a5cda-88ab-4c3f-dcae-79d8569b38a5"
      },
      "source": [
        "path = untar_data('https://s3.amazonaws.com/fast-ai-nlp/ag_news_csv.tgz')"
      ],
      "execution_count": 6,
      "outputs": [
        {
          "output_type": "display_data",
          "data": {
            "text/html": [
              "\n",
              "    <div>\n",
              "        <style>\n",
              "            /* Turns off some styling */\n",
              "            progress {\n",
              "                /* gets rid of default border in Firefox and Opera. */\n",
              "                border: none;\n",
              "                /* Needs to be in here for Safari polyfill so background images work as expected. */\n",
              "                background-size: auto;\n",
              "            }\n",
              "            .progress-bar-interrupted, .progress-bar-interrupted::-webkit-progress-bar {\n",
              "                background: #F44336;\n",
              "            }\n",
              "        </style>\n",
              "      <progress value='11788288' class='' max='11784419' style='width:300px; height:20px; vertical-align: middle;'></progress>\n",
              "      100.03% [11788288/11784419 00:00<00:00]\n",
              "    </div>\n",
              "    "
            ],
            "text/plain": [
              "<IPython.core.display.HTML object>"
            ]
          },
          "metadata": {}
        }
      ]
    },
    {
      "cell_type": "code",
      "metadata": {
        "colab": {
          "base_uri": "https://localhost:8080/"
        },
        "id": "59ED0PveJvA3",
        "outputId": "d4d61282-caf7-4409-90b0-c668b1cc9377"
      },
      "source": [
        "path.ls()"
      ],
      "execution_count": 7,
      "outputs": [
        {
          "output_type": "execute_result",
          "data": {
            "text/plain": [
              "(#4) [Path('/root/.fastai/data/ag_news_csv/test.csv'),Path('/root/.fastai/data/ag_news_csv/train.csv'),Path('/root/.fastai/data/ag_news_csv/classes.txt'),Path('/root/.fastai/data/ag_news_csv/readme.txt')]"
            ]
          },
          "metadata": {},
          "execution_count": 7
        }
      ]
    },
    {
      "cell_type": "code",
      "metadata": {
        "id": "v-WNQser8fJA"
      },
      "source": [
        "!cp '/root/.fastai/data/ag_news_csv/readme.txt' '/content'"
      ],
      "execution_count": 8,
      "outputs": []
    },
    {
      "cell_type": "code",
      "metadata": {
        "id": "W8We7b0i8H0f"
      },
      "source": [
        "df_trn = pd.read_csv(path/'train.csv',header=None,sep=',')\n",
        "df_trn.columns = ['class_id','title','description']\n",
        "df_ts = pd.read_csv(path/'test.csv',header=None,sep=',')\n",
        "df_ts.columns = ['class_id','title','description']"
      ],
      "execution_count": 9,
      "outputs": []
    },
    {
      "cell_type": "code",
      "metadata": {
        "id": "XfqqXl0J8PkL"
      },
      "source": [
        "df = pd.concat([df_trn,df_ts]).reset_index(drop=True)"
      ],
      "execution_count": 10,
      "outputs": []
    },
    {
      "cell_type": "code",
      "metadata": {
        "colab": {
          "base_uri": "https://localhost:8080/",
          "height": 293
        },
        "id": "ytOHz9Sr8PxI",
        "outputId": "facdbd12-974e-41c6-a412-bfd8f913a262"
      },
      "source": [
        "df.head()"
      ],
      "execution_count": 11,
      "outputs": [
        {
          "output_type": "execute_result",
          "data": {
            "text/html": [
              "<div>\n",
              "<style scoped>\n",
              "    .dataframe tbody tr th:only-of-type {\n",
              "        vertical-align: middle;\n",
              "    }\n",
              "\n",
              "    .dataframe tbody tr th {\n",
              "        vertical-align: top;\n",
              "    }\n",
              "\n",
              "    .dataframe thead th {\n",
              "        text-align: right;\n",
              "    }\n",
              "</style>\n",
              "<table border=\"1\" class=\"dataframe\">\n",
              "  <thead>\n",
              "    <tr style=\"text-align: right;\">\n",
              "      <th></th>\n",
              "      <th>class_id</th>\n",
              "      <th>title</th>\n",
              "      <th>description</th>\n",
              "    </tr>\n",
              "  </thead>\n",
              "  <tbody>\n",
              "    <tr>\n",
              "      <th>0</th>\n",
              "      <td>3</td>\n",
              "      <td>Wall St. Bears Claw Back Into the Black (Reuters)</td>\n",
              "      <td>Reuters - Short-sellers, Wall Street's dwindling\\band of ultra-cynics, are seeing green again.</td>\n",
              "    </tr>\n",
              "    <tr>\n",
              "      <th>1</th>\n",
              "      <td>3</td>\n",
              "      <td>Carlyle Looks Toward Commercial Aerospace (Reuters)</td>\n",
              "      <td>Reuters - Private investment firm Carlyle Group,\\which has a reputation for making well-timed and occasionally\\controversial plays in the defense industry, has quietly placed\\its bets on another part of the market.</td>\n",
              "    </tr>\n",
              "    <tr>\n",
              "      <th>2</th>\n",
              "      <td>3</td>\n",
              "      <td>Oil and Economy Cloud Stocks' Outlook (Reuters)</td>\n",
              "      <td>Reuters - Soaring crude prices plus worries\\about the economy and the outlook for earnings are expected to\\hang over the stock market next week during the depth of the\\summer doldrums.</td>\n",
              "    </tr>\n",
              "    <tr>\n",
              "      <th>3</th>\n",
              "      <td>3</td>\n",
              "      <td>Iraq Halts Oil Exports from Main Southern Pipeline (Reuters)</td>\n",
              "      <td>Reuters - Authorities have halted oil export\\flows from the main pipeline in southern Iraq after\\intelligence showed a rebel militia could strike\\infrastructure, an oil official said on Saturday.</td>\n",
              "    </tr>\n",
              "    <tr>\n",
              "      <th>4</th>\n",
              "      <td>3</td>\n",
              "      <td>Oil prices soar to all-time record, posing new menace to US economy (AFP)</td>\n",
              "      <td>AFP - Tearaway world oil prices, toppling records and straining wallets, present a new economic menace barely three months before the US presidential elections.</td>\n",
              "    </tr>\n",
              "  </tbody>\n",
              "</table>\n",
              "</div>"
            ],
            "text/plain": [
              "   class_id  ...                                                                                                                                                                                                             description\n",
              "0         3  ...                                                                                                                          Reuters - Short-sellers, Wall Street's dwindling\\band of ultra-cynics, are seeing green again.\n",
              "1         3  ...  Reuters - Private investment firm Carlyle Group,\\which has a reputation for making well-timed and occasionally\\controversial plays in the defense industry, has quietly placed\\its bets on another part of the market.\n",
              "2         3  ...                                Reuters - Soaring crude prices plus worries\\about the economy and the outlook for earnings are expected to\\hang over the stock market next week during the depth of the\\summer doldrums.\n",
              "3         3  ...                     Reuters - Authorities have halted oil export\\flows from the main pipeline in southern Iraq after\\intelligence showed a rebel militia could strike\\infrastructure, an oil official said on Saturday.\n",
              "4         3  ...                                                        AFP - Tearaway world oil prices, toppling records and straining wallets, present a new economic menace barely three months before the US presidential elections.\n",
              "\n",
              "[5 rows x 3 columns]"
            ]
          },
          "metadata": {},
          "execution_count": 11
        }
      ]
    },
    {
      "cell_type": "code",
      "metadata": {
        "colab": {
          "base_uri": "https://localhost:8080/"
        },
        "id": "BgErB5ye-wl_",
        "outputId": "67a7af16-4a7c-4967-c1ae-b593db9f67ee"
      },
      "source": [
        "df.shape"
      ],
      "execution_count": 12,
      "outputs": [
        {
          "output_type": "execute_result",
          "data": {
            "text/plain": [
              "(127600, 3)"
            ]
          },
          "metadata": {},
          "execution_count": 12
        }
      ]
    },
    {
      "cell_type": "markdown",
      "metadata": {
        "id": "T70K81GqITI0"
      },
      "source": [
        "### Image labels"
      ]
    },
    {
      "cell_type": "markdown",
      "metadata": {
        "id": "4h0LUMCrIXHd"
      },
      "source": [
        "## Analysing data"
      ]
    },
    {
      "cell_type": "markdown",
      "metadata": {
        "id": "zbGyQ32TIbnM"
      },
      "source": [
        "## Creating a data loader for training"
      ]
    },
    {
      "cell_type": "code",
      "metadata": {
        "id": "YXUYX0oMiEB1",
        "colab": {
          "base_uri": "https://localhost:8080/",
          "height": 17
        },
        "outputId": "73df0b28-92a9-4319-ced7-5d96a28b1eeb"
      },
      "source": [
        "dls_lm = TextDataLoaders.from_df(df.sample(frac=0.25),path='.',\n",
        "                                 text_col=['title','description'],\n",
        "                                 valid_pct=0.15,\n",
        "                                 is_lm=True,bs=128)"
      ],
      "execution_count": 13,
      "outputs": [
        {
          "output_type": "display_data",
          "data": {
            "text/html": [
              ""
            ],
            "text/plain": [
              "<IPython.core.display.HTML object>"
            ]
          },
          "metadata": {}
        }
      ]
    },
    {
      "cell_type": "code",
      "metadata": {
        "colab": {
          "base_uri": "https://localhost:8080/",
          "height": 536
        },
        "id": "sm8HNdRNJfdX",
        "outputId": "b410a75b-65c9-400d-b84f-3bb2c9e7c0bc"
      },
      "source": [
        "dls_lm.show_batch(max_n=5)"
      ],
      "execution_count": 14,
      "outputs": [
        {
          "output_type": "display_data",
          "data": {
            "text/html": [
              "<table border=\"1\" class=\"dataframe\">\n",
              "  <thead>\n",
              "    <tr style=\"text-align: right;\">\n",
              "      <th></th>\n",
              "      <th>text</th>\n",
              "      <th>text_</th>\n",
              "    </tr>\n",
              "  </thead>\n",
              "  <tbody>\n",
              "    <tr>\n",
              "      <th>0</th>\n",
              "      <td>xxbos xxfld 1 xxmaj sprint and xxmaj nextel to xxmaj merge , xxmaj creating xxmaj cellphone xxmaj powerhouse xxfld 2 xxmaj the deal creates the third - largest company in the wireless telephone industry , but its competition is much larger . xxbos xxfld 1 xxmaj spain fear xxmaj bryan brothers in xxmaj davis xxmaj cup final xxfld 2 xxmaj the xxmaj united xxmaj states doubles pairing of xxmaj mike and xxmaj</td>\n",
              "      <td>xxfld 1 xxmaj sprint and xxmaj nextel to xxmaj merge , xxmaj creating xxmaj cellphone xxmaj powerhouse xxfld 2 xxmaj the deal creates the third - largest company in the wireless telephone industry , but its competition is much larger . xxbos xxfld 1 xxmaj spain fear xxmaj bryan brothers in xxmaj davis xxmaj cup final xxfld 2 xxmaj the xxmaj united xxmaj states doubles pairing of xxmaj mike and xxmaj bob</td>\n",
              "    </tr>\n",
              "    <tr>\n",
              "      <th>1</th>\n",
              "      <td>stores lack excitement , executive says xxfld 2 xxup san xxup diego -- xxmaj music mogul xxmaj clive xxmaj davis has some advice for retailers looking to persuade music fans to return to traditional record shops : xxmaj make shopping more fun . xxbos xxfld 1 xxmaj delta xxmaj may xxmaj offer xxmaj its xxmaj pilots xxmaj equity xxmaj stake to xxmaj get xxmaj cuts xxfld 2 xxmaj delta xxmaj air xxmaj</td>\n",
              "      <td>lack excitement , executive says xxfld 2 xxup san xxup diego -- xxmaj music mogul xxmaj clive xxmaj davis has some advice for retailers looking to persuade music fans to return to traditional record shops : xxmaj make shopping more fun . xxbos xxfld 1 xxmaj delta xxmaj may xxmaj offer xxmaj its xxmaj pilots xxmaj equity xxmaj stake to xxmaj get xxmaj cuts xxfld 2 xxmaj delta xxmaj air xxmaj lines</td>\n",
              "    </tr>\n",
              "    <tr>\n",
              "      <th>2</th>\n",
              "      <td>elbaradei xxmaj says xxmaj unclear if xxmaj iran xxmaj nuke xxmaj plans xxmaj peaceful xxfld 2 xxup vienna ( reuters ) - xxmaj it is unclear if xxmaj iran 's nuclear ambitions are entirely peaceful , but there is still no firm evidence that xxmaj tehran is secretly developing atomic weapons as xxmaj washington asserts , the xxup u.n . nuclear watchdog said xxmaj tuesday . xxbos xxfld 1 xxmaj microsoft :</td>\n",
              "      <td>xxmaj says xxmaj unclear if xxmaj iran xxmaj nuke xxmaj plans xxmaj peaceful xxfld 2 xxup vienna ( reuters ) - xxmaj it is unclear if xxmaj iran 's nuclear ambitions are entirely peaceful , but there is still no firm evidence that xxmaj tehran is secretly developing atomic weapons as xxmaj washington asserts , the xxup u.n . nuclear watchdog said xxmaj tuesday . xxbos xxfld 1 xxmaj microsoft : xxmaj</td>\n",
              "    </tr>\n",
              "    <tr>\n",
              "      <th>3</th>\n",
              "      <td>by \\ $ 101 . a … xxbos xxfld 1 xxmaj senate xxmaj foes xxmaj daschle , xxmaj xxunk xxmaj swaps xxmaj barbs in xxmaj debate ( reuters ) xxfld 2 xxmaj reuters - xxmaj senate xxmaj democratic leader xxmaj tom \\ xxmaj daschle , fighting for political survival , angrily rejected \\ xxmaj republic challenger xxmaj john xxmaj xxunk 's claim on xxmaj sunday that he had \\ emboldened the enemy</td>\n",
              "      <td>\\ $ 101 . a … xxbos xxfld 1 xxmaj senate xxmaj foes xxmaj daschle , xxmaj xxunk xxmaj swaps xxmaj barbs in xxmaj debate ( reuters ) xxfld 2 xxmaj reuters - xxmaj senate xxmaj democratic leader xxmaj tom \\ xxmaj daschle , fighting for political survival , angrily rejected \\ xxmaj republic challenger xxmaj john xxmaj xxunk 's claim on xxmaj sunday that he had \\ emboldened the enemy in</td>\n",
              "    </tr>\n",
              "    <tr>\n",
              "      <th>4</th>\n",
              "      <td>inning gave xxmaj houston a 3 - 0 win over the xxmaj st xxmaj louis xxmaj cardinals xxmaj monday to move the xxmaj astros within one game of reaching the xxmaj world xxmaj series for the first time in their xxunk history . xxbos xxfld 1 palmsource buys into xxmaj china , xxmaj linux xxfld 2 com xxmaj december 8 , 2004 , xxunk xxup am xxup pt . palmsource , which</td>\n",
              "      <td>gave xxmaj houston a 3 - 0 win over the xxmaj st xxmaj louis xxmaj cardinals xxmaj monday to move the xxmaj astros within one game of reaching the xxmaj world xxmaj series for the first time in their xxunk history . xxbos xxfld 1 palmsource buys into xxmaj china , xxmaj linux xxfld 2 com xxmaj december 8 , 2004 , xxunk xxup am xxup pt . palmsource , which makes</td>\n",
              "    </tr>\n",
              "  </tbody>\n",
              "</table>"
            ],
            "text/plain": [
              "<IPython.core.display.HTML object>"
            ]
          },
          "metadata": {}
        }
      ]
    },
    {
      "cell_type": "code",
      "metadata": {
        "colab": {
          "base_uri": "https://localhost:8080/"
        },
        "id": "WUbDJ2zKJfgm",
        "outputId": "d3453747-43fa-4071-bf2c-0120277f6032"
      },
      "source": [
        "len(dls_lm.train_ds),len(dls_lm.valid_ds)"
      ],
      "execution_count": 15,
      "outputs": [
        {
          "output_type": "execute_result",
          "data": {
            "text/plain": [
              "(27115, 4785)"
            ]
          },
          "metadata": {},
          "execution_count": 15
        }
      ]
    },
    {
      "cell_type": "markdown",
      "metadata": {
        "id": "WvqqZlRRkMY9"
      },
      "source": [
        "### Training the Model"
      ]
    },
    {
      "cell_type": "code",
      "metadata": {
        "id": "96py3XzlJfoW",
        "colab": {
          "base_uri": "https://localhost:8080/",
          "height": 37
        },
        "outputId": "f07ba14f-a5bc-46bb-ca38-60e284901883"
      },
      "source": [
        "learn = language_model_learner(dls_lm, AWD_LSTM, metrics=[accuracy, Perplexity()], path=path, wd=0.1).to_fp16()"
      ],
      "execution_count": 16,
      "outputs": [
        {
          "output_type": "display_data",
          "data": {
            "text/html": [
              "\n",
              "    <div>\n",
              "        <style>\n",
              "            /* Turns off some styling */\n",
              "            progress {\n",
              "                /* gets rid of default border in Firefox and Opera. */\n",
              "                border: none;\n",
              "                /* Needs to be in here for Safari polyfill so background images work as expected. */\n",
              "                background-size: auto;\n",
              "            }\n",
              "            .progress-bar-interrupted, .progress-bar-interrupted::-webkit-progress-bar {\n",
              "                background: #F44336;\n",
              "            }\n",
              "        </style>\n",
              "      <progress value='105070592' class='' max='105067061' style='width:300px; height:20px; vertical-align: middle;'></progress>\n",
              "      100.00% [105070592/105067061 00:01<00:00]\n",
              "    </div>\n",
              "    "
            ],
            "text/plain": [
              "<IPython.core.display.HTML object>"
            ]
          },
          "metadata": {}
        }
      ]
    },
    {
      "cell_type": "code",
      "metadata": {
        "id": "_mFl-hAnFHpJ"
      },
      "source": [
        ""
      ],
      "execution_count": 16,
      "outputs": []
    },
    {
      "cell_type": "code",
      "metadata": {
        "colab": {
          "base_uri": "https://localhost:8080/",
          "height": 98
        },
        "id": "m77DSApDJfrA",
        "outputId": "7ec20bd0-6850-4424-9bad-77b997213a06"
      },
      "source": [
        "cb1 = SaveModelCallback(monitor='perplexity',fname='best_model',comp=np.less) # Callbacks\n",
        "learn.fit_one_cycle(1, 1e-2, cbs =[cb1])"
      ],
      "execution_count": 17,
      "outputs": [
        {
          "output_type": "display_data",
          "data": {
            "text/html": [
              "<table border=\"1\" class=\"dataframe\">\n",
              "  <thead>\n",
              "    <tr style=\"text-align: left;\">\n",
              "      <th>epoch</th>\n",
              "      <th>train_loss</th>\n",
              "      <th>valid_loss</th>\n",
              "      <th>accuracy</th>\n",
              "      <th>perplexity</th>\n",
              "      <th>time</th>\n",
              "    </tr>\n",
              "  </thead>\n",
              "  <tbody>\n",
              "    <tr>\n",
              "      <td>0</td>\n",
              "      <td>4.055243</td>\n",
              "      <td>3.527062</td>\n",
              "      <td>0.392179</td>\n",
              "      <td>34.023865</td>\n",
              "      <td>04:40</td>\n",
              "    </tr>\n",
              "  </tbody>\n",
              "</table>"
            ],
            "text/plain": [
              "<IPython.core.display.HTML object>"
            ]
          },
          "metadata": {}
        },
        {
          "output_type": "stream",
          "name": "stdout",
          "text": [
            "Better model found at epoch 0 with perplexity value: 34.02386474609375.\n"
          ]
        }
      ]
    },
    {
      "cell_type": "code",
      "metadata": {
        "colab": {
          "base_uri": "https://localhost:8080/",
          "height": 293
        },
        "id": "iFenW7DO-A_5",
        "outputId": "2231312e-eaed-4c64-d750-4ec91df2788e"
      },
      "source": [
        "cb1 = SaveModelCallback(monitor='perplexity',fname='best_model',comp=np.less) # Callbacks\n",
        "learn.fit_one_cycle(5, 1e-3, cbs =[cb1])"
      ],
      "execution_count": 18,
      "outputs": [
        {
          "output_type": "display_data",
          "data": {
            "text/html": [
              "<table border=\"1\" class=\"dataframe\">\n",
              "  <thead>\n",
              "    <tr style=\"text-align: left;\">\n",
              "      <th>epoch</th>\n",
              "      <th>train_loss</th>\n",
              "      <th>valid_loss</th>\n",
              "      <th>accuracy</th>\n",
              "      <th>perplexity</th>\n",
              "      <th>time</th>\n",
              "    </tr>\n",
              "  </thead>\n",
              "  <tbody>\n",
              "    <tr>\n",
              "      <td>0</td>\n",
              "      <td>3.810388</td>\n",
              "      <td>3.493278</td>\n",
              "      <td>0.394682</td>\n",
              "      <td>32.893597</td>\n",
              "      <td>04:39</td>\n",
              "    </tr>\n",
              "    <tr>\n",
              "      <td>1</td>\n",
              "      <td>3.732790</td>\n",
              "      <td>3.432014</td>\n",
              "      <td>0.401856</td>\n",
              "      <td>30.938890</td>\n",
              "      <td>04:38</td>\n",
              "    </tr>\n",
              "    <tr>\n",
              "      <td>2</td>\n",
              "      <td>3.677222</td>\n",
              "      <td>3.399397</td>\n",
              "      <td>0.405628</td>\n",
              "      <td>29.946041</td>\n",
              "      <td>04:38</td>\n",
              "    </tr>\n",
              "    <tr>\n",
              "      <td>3</td>\n",
              "      <td>3.626684</td>\n",
              "      <td>3.385558</td>\n",
              "      <td>0.407507</td>\n",
              "      <td>29.534479</td>\n",
              "      <td>04:38</td>\n",
              "    </tr>\n",
              "    <tr>\n",
              "      <td>4</td>\n",
              "      <td>3.620296</td>\n",
              "      <td>3.383792</td>\n",
              "      <td>0.407485</td>\n",
              "      <td>29.482353</td>\n",
              "      <td>04:40</td>\n",
              "    </tr>\n",
              "  </tbody>\n",
              "</table>"
            ],
            "text/plain": [
              "<IPython.core.display.HTML object>"
            ]
          },
          "metadata": {}
        },
        {
          "output_type": "stream",
          "name": "stdout",
          "text": [
            "Better model found at epoch 0 with perplexity value: 32.89359664916992.\n",
            "Better model found at epoch 1 with perplexity value: 30.93889045715332.\n",
            "Better model found at epoch 2 with perplexity value: 29.946041107177734.\n",
            "Better model found at epoch 3 with perplexity value: 29.53447914123535.\n",
            "Better model found at epoch 4 with perplexity value: 29.48235321044922.\n"
          ]
        }
      ]
    },
    {
      "cell_type": "markdown",
      "metadata": {
        "id": "KbCdOScdkJQq"
      },
      "source": [
        "## Interpreting Results"
      ]
    },
    {
      "cell_type": "code",
      "metadata": {
        "id": "xzvM_nlWJfts"
      },
      "source": [
        "learn = learn.to_fp32()\n",
        "learn.export('/content/newsLM_export.pkl');"
      ],
      "execution_count": 19,
      "outputs": []
    },
    {
      "cell_type": "code",
      "metadata": {
        "id": "qq5g1HcIjGbw"
      },
      "source": [
        "!cp '/content/newsLM_export.pkl' '/content/drive/MyDrive/'"
      ],
      "execution_count": 20,
      "outputs": []
    },
    {
      "cell_type": "markdown",
      "metadata": {
        "id": "5wpXt3ylR7jO"
      },
      "source": [
        "## Inference"
      ]
    },
    {
      "cell_type": "code",
      "metadata": {
        "id": "HH1otVbAhyp8",
        "colab": {
          "base_uri": "https://localhost:8080/"
        },
        "outputId": "4f9b5a5e-260b-4d81-f18d-8236a72bfab2"
      },
      "source": [
        "!pip install -qq gradio"
      ],
      "execution_count": 21,
      "outputs": [
        {
          "output_type": "stream",
          "name": "stdout",
          "text": [
            "\u001b[K     |████████████████████████████████| 979 kB 5.2 MB/s \n",
            "\u001b[K     |████████████████████████████████| 206 kB 46.4 MB/s \n",
            "\u001b[K     |████████████████████████████████| 2.0 MB 36.1 MB/s \n",
            "\u001b[K     |████████████████████████████████| 63 kB 2.5 MB/s \n",
            "\u001b[K     |████████████████████████████████| 961 kB 41.1 MB/s \n",
            "\u001b[K     |████████████████████████████████| 3.6 MB 26.5 MB/s \n",
            "\u001b[?25h  Building wheel for ffmpy (setup.py) ... \u001b[?25l\u001b[?25hdone\n",
            "  Building wheel for flask-cachebuster (setup.py) ... \u001b[?25l\u001b[?25hdone\n"
          ]
        }
      ]
    },
    {
      "cell_type": "code",
      "metadata": {
        "id": "kRQdRtvbhyzx"
      },
      "source": [
        "import gradio as gr"
      ],
      "execution_count": 22,
      "outputs": []
    },
    {
      "cell_type": "code",
      "metadata": {
        "id": "xhg_E-SaJfv9"
      },
      "source": [
        "inf_learn = load_learner('/content/newsLM_export.pkl',cpu=False);"
      ],
      "execution_count": 23,
      "outputs": []
    },
    {
      "cell_type": "code",
      "metadata": {
        "colab": {
          "base_uri": "https://localhost:8080/",
          "height": 591
        },
        "id": "mGRXU0WNJf6c",
        "outputId": "d7eb14bb-1fe3-4260-ac4e-c1f543ff4d1d"
      },
      "source": [
        "def text_complete(txt,num,tmp):\n",
        "    res = learn.predict(txt, n_words=int(num),temperature=tmp/100)\n",
        "    return res\n",
        "\n",
        "iface = gr.Interface(text_complete, \n",
        "                     [gr.inputs.Textbox(label='Text'),\n",
        "                      gr.inputs.Slider(20, 100, default=30, label=\"num_words\"),\n",
        "                      gr.inputs.Slider(10, 100, default=95, label=\"temperature\")], \n",
        "                      gr.outputs.Textbox());\n",
        "\n",
        "\n",
        "if __name__ == \"__main__\":\n",
        "    iface.launch(debug=True)"
      ],
      "execution_count": null,
      "outputs": [
        {
          "output_type": "stream",
          "name": "stdout",
          "text": [
            "Colab notebook detected. This cell will run indefinitely so that you can see errors and logs. To turn off, set debug=False in launch().\n",
            "Running on public URL: https://27685.gradio.app\n",
            "\n",
            "This share link will expire in 72 hours. To get longer links, send an email to: support@gradio.app\n"
          ]
        },
        {
          "output_type": "display_data",
          "data": {
            "text/html": [
              "\n",
              "        <iframe\n",
              "            width=\"900\"\n",
              "            height=\"500\"\n",
              "            src=\"https://27685.gradio.app\"\n",
              "            frameborder=\"0\"\n",
              "            allowfullscreen\n",
              "        ></iframe>\n",
              "        "
            ],
            "text/plain": [
              "<IPython.lib.display.IFrame at 0x7f5488910990>"
            ]
          },
          "metadata": {}
        },
        {
          "output_type": "display_data",
          "data": {
            "text/html": [
              ""
            ],
            "text/plain": [
              "<IPython.core.display.HTML object>"
            ]
          },
          "metadata": {}
        }
      ]
    },
    {
      "cell_type": "code",
      "metadata": {
        "id": "kN0bL0iEquO-"
      },
      "source": [
        ""
      ],
      "execution_count": null,
      "outputs": []
    }
  ]
}